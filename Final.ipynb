{
 "cells": [
  {
   "cell_type": "markdown",
   "id": "e06294f0-4d0c-46a2-b5cd-e92019b895c6",
   "metadata": {
    "tags": []
   },
   "source": [
    "## FAKE NEWS DETECTION"
   ]
  },
  {
   "cell_type": "markdown",
   "id": "dfc8e088-0bfe-442f-8e0d-34a49d58c7c2",
   "metadata": {},
   "source": [
    "### Importing Librabies"
   ]
  },
  {
   "cell_type": "code",
   "execution_count": 3,
   "id": "e6c0eff9-ce9a-4dea-b498-f01d04eabdc6",
   "metadata": {
    "tags": []
   },
   "outputs": [],
   "source": [
    "import pandas as pd\n",
    "import numpy as np\n",
    "import seaborn as sns\n",
    "import matplotlib.pyplot as plt\n",
    "from sklearn.model_selection import train_test_split\n",
    "from sklearn.metrics import classification_report, confusion_matrix\n",
    "from sklearn.feature_extraction.text import TfidfVectorizer\n",
    "from sklearn.linear_model import LogisticRegression\n",
    "from sklearn.tree import DecisionTreeClassifier\n",
    "from sklearn.ensemble import GradientBoostingClassifier, RandomForestClassifier\n",
    "import re\n",
    "import string"
   ]
  },
  {
   "cell_type": "markdown",
   "id": "e3a99958-f9ac-42b0-a371-c19768303f6e",
   "metadata": {},
   "source": [
    "### Importing the Dataset"
   ]
  },
  {
   "cell_type": "code",
   "execution_count": 22,
   "id": "d0ff9e33-e595-41aa-8252-ecbc79ca2542",
   "metadata": {
    "tags": []
   },
   "outputs": [],
   "source": [
    "df_fake = pd.read_csv(\"Fake.csv\")\n",
    "df_true = pd.read_csv(\"True.csv\")"
   ]
  },
  {
   "cell_type": "markdown",
   "id": "deb4fc1b-9a2c-470a-8aa0-c7aa650b0aac",
   "metadata": {},
   "source": [
    "### Inserting \"Class\" as target attribute"
   ]
  },
  {
   "cell_type": "code",
   "execution_count": 23,
   "id": "16a85b8e-fc1d-4f6d-b80b-229858c33fa4",
   "metadata": {
    "tags": []
   },
   "outputs": [],
   "source": [
    "df_fake[\"class\"] = 0\n",
    "df_true[\"class\"] = 1"
   ]
  },
  {
   "cell_type": "markdown",
   "id": "06c86603-ab53-4b9b-98c3-2558544f4b0e",
   "metadata": {},
   "source": [
    "### Manual testing data"
   ]
  },
  {
   "cell_type": "code",
   "execution_count": 24,
   "id": "4199ba88-d37a-40fd-a150-ac95474689c9",
   "metadata": {
    "tags": []
   },
   "outputs": [],
   "source": [
    "df_fake_manual_testing = df_fake.tail(10)\n",
    "df_true_manual_testing = df_true.tail(10)"
   ]
  },
  {
   "cell_type": "markdown",
   "id": "e7c5a96d-ac78-44ce-a115-f3f99541eec7",
   "metadata": {},
   "source": [
    "### Removing manual testing data from the main dataframes"
   ]
  },
  {
   "cell_type": "code",
   "execution_count": 25,
   "id": "215c446f-b1eb-4326-9e74-a566f7067db8",
   "metadata": {
    "tags": []
   },
   "outputs": [],
   "source": [
    "df_true = df_true.iloc[:-10]\n",
    "df_fake = df_fake.iloc[:-10]"
   ]
  },
  {
   "cell_type": "markdown",
   "id": "b1bc8e85-1c98-424b-bc52-8f507ba7bc2d",
   "metadata": {},
   "source": [
    "### Assigning class labels"
   ]
  },
  {
   "cell_type": "code",
   "execution_count": 26,
   "id": "f1efa383-bc66-4524-9f27-442d78868df4",
   "metadata": {
    "tags": []
   },
   "outputs": [],
   "source": [
    "df_fake_manual_testing[\"class\"] = 0\n",
    "df_true_manual_testing[\"class\"] = 1"
   ]
  },
  {
   "cell_type": "markdown",
   "id": "3c2b9e8a-fbd8-4a32-bfda-b603a4bcc17a",
   "metadata": {},
   "source": [
    "### Concatenating manual testing data"
   ]
  },
  {
   "cell_type": "code",
   "execution_count": 29,
   "id": "4e58756a-d134-456a-b83a-2bbe563c04d7",
   "metadata": {
    "tags": []
   },
   "outputs": [],
   "source": [
    "df_manual_testing = pd.concat([df_fake_manual_testing, df_true_manual_testing], axis=0)\n",
    "df_manual_testing.to_csv(\"manual_testing.csv\")"
   ]
  },
  {
   "cell_type": "markdown",
   "id": "edec0714-a55c-40fd-8b23-29f52e94e493",
   "metadata": {},
   "source": [
    "### Merging True and Fake datasets"
   ]
  },
  {
   "cell_type": "code",
   "execution_count": 28,
   "id": "a9fa9207-2018-4091-9dab-ce46b7ea45b5",
   "metadata": {
    "tags": []
   },
   "outputs": [],
   "source": [
    "df_merge = pd.concat([df_fake, df_true], axis=0)"
   ]
  },
  {
   "cell_type": "markdown",
   "id": "3b7f7bdc-4790-437d-996f-cba6e3437211",
   "metadata": {},
   "source": [
    "### Dropping unnecessary columns"
   ]
  },
  {
   "cell_type": "code",
   "execution_count": 30,
   "id": "ab52e6a5-3944-4102-8a97-52e803aca28f",
   "metadata": {
    "tags": []
   },
   "outputs": [],
   "source": [
    "df = df_merge.drop([\"title\", \"subject\", \"date\"], axis=1)"
   ]
  },
  {
   "cell_type": "markdown",
   "id": "c60cfc87-75f2-43e7-b03b-ff5cd3971a3d",
   "metadata": {},
   "source": [
    "### Shuffling the dataframe"
   ]
  },
  {
   "cell_type": "code",
   "execution_count": 31,
   "id": "37e822bd-8ea5-47ae-b861-7032c1669ed2",
   "metadata": {
    "tags": []
   },
   "outputs": [],
   "source": [
    "df = df.sample(frac=1).reset_index(drop=True)"
   ]
  },
  {
   "cell_type": "markdown",
   "id": "b06d63b6-991a-4477-a9b2-6247241bbc1e",
   "metadata": {},
   "source": [
    "### Preprocessing text data"
   ]
  },
  {
   "cell_type": "code",
   "execution_count": 34,
   "id": "a38e3459-239b-4a17-bc16-b5d048871df6",
   "metadata": {
    "tags": []
   },
   "outputs": [],
   "source": [
    "def process_text(text):\n",
    "    text = text.lower()\n",
    "    text = re.sub('\\[.*?\\]', '', text)\n",
    "    text = re.sub(\"\\\\W\", \" \", text)\n",
    "    text = re.sub('https?://\\S+|www\\.\\S+', '', text)\n",
    "    text = re.sub('<.*?>+', '', text)\n",
    "    text = re.sub('[%s]' % re.escape(string.punctuation), '', text)\n",
    "    text = re.sub('\\n', '', text)\n",
    "    text = re.sub('\\w*\\d\\w*', '', text)\n",
    "    return text\n",
    "df[\"text\"] = df[\"text\"].apply(process_text)"
   ]
  },
  {
   "cell_type": "markdown",
   "id": "785a1aa5-caa6-4a84-9611-9c0ca01a9b8b",
   "metadata": {},
   "source": [
    "### Defining dependent and independent variables"
   ]
  },
  {
   "cell_type": "code",
   "execution_count": 33,
   "id": "db05d652-a523-4353-a75c-7849d7b3f865",
   "metadata": {
    "tags": []
   },
   "outputs": [],
   "source": [
    "x = df[\"text\"]\n",
    "y = df[\"class\"]"
   ]
  },
  {
   "cell_type": "markdown",
   "id": "d1e9c2b2-66c9-4577-be1a-516c6ad9b10f",
   "metadata": {},
   "source": [
    "### Splitting Training and Testing data"
   ]
  },
  {
   "cell_type": "code",
   "execution_count": 35,
   "id": "cc62b8bf-7297-49b6-a319-bd562393b9aa",
   "metadata": {
    "tags": []
   },
   "outputs": [],
   "source": [
    "x_train, x_test, y_train, y_test = train_test_split(x, y, test_size=0.25)"
   ]
  },
  {
   "cell_type": "markdown",
   "id": "bb9b014c-7642-4f05-9da0-d87f2ccc8a92",
   "metadata": {},
   "source": [
    "### Vectorizing text data"
   ]
  },
  {
   "cell_type": "code",
   "execution_count": 36,
   "id": "a3f0c0b6-9286-4b4f-8c53-f85ae3594a0f",
   "metadata": {
    "tags": []
   },
   "outputs": [],
   "source": [
    "vectorization = TfidfVectorizer()\n",
    "xv_train = vectorization.fit_transform(x_train)\n",
    "xv_test = vectorization.transform(x_test)"
   ]
  },
  {
   "cell_type": "markdown",
   "id": "38927f5f-f0e5-41f3-bbbb-d6b0c099320d",
   "metadata": {},
   "source": [
    "### 1. Logistic Regression"
   ]
  },
  {
   "cell_type": "code",
   "execution_count": 47,
   "id": "ae85949e-6f49-460c-a5f2-82b2ea5eb137",
   "metadata": {
    "tags": []
   },
   "outputs": [
    {
     "name": "stdout",
     "output_type": "stream",
     "text": [
      "Logistic Regression Results:\n",
      "              precision    recall  f1-score   support\n",
      "\n",
      "           0       0.99      0.98      0.99      5894\n",
      "           1       0.98      0.99      0.98      5326\n",
      "\n",
      "    accuracy                           0.99     11220\n",
      "   macro avg       0.99      0.99      0.99     11220\n",
      "weighted avg       0.99      0.99      0.99     11220\n",
      "\n"
     ]
    },
    {
     "data": {
      "image/png": "[encoded data removed]",
      "text/plain": [
       "<Figure size 640x480 with 2 Axes>"
      ]
     },
     "metadata": {},
     "output_type": "display_data"
    }
   ],
   "source": [
    "LR = LogisticRegression()\n",
    "LR.fit(xv_train, y_train)\n",
    "pred_lr = LR.predict(xv_test)\n",
    "print(\"Logistic Regression Results:\")\n",
    "print(classification_report(y_test, pred_lr))\n",
    "conf_matrix_lr = confusion_matrix(y_test, pred_lr)\n",
    "sns.heatmap(conf_matrix_lr, annot=True, fmt=\"d\", cmap=\"Blues\")\n",
    "plt.title(\"Confusion Matrix - Logistic Regression\")\n",
    "plt.show()"
   ]
  },
  {
   "cell_type": "markdown",
   "id": "99860331-73d6-4def-8bf6-6d4ced3de8a3",
   "metadata": {},
   "source": [
    "### 2. Decision Tree Classification"
   ]
  },
  {
   "cell_type": "code",
   "execution_count": 46,
   "id": "d968f73e-0620-4dc5-b930-a6e2a65cf5f5",
   "metadata": {
    "tags": []
   },
   "outputs": [
    {
     "name": "stdout",
     "output_type": "stream",
     "text": [
      "Decision Tree Classification Results:\n",
      "              precision    recall  f1-score   support\n",
      "\n",
      "           0       1.00      1.00      1.00      5894\n",
      "           1       1.00      0.99      1.00      5326\n",
      "\n",
      "    accuracy                           1.00     11220\n",
      "   macro avg       1.00      1.00      1.00     11220\n",
      "weighted avg       1.00      1.00      1.00     11220\n",
      "\n"
     ]
    },
    {
     "data": {
      "image/png": "[encoded data removed]",
      "text/plain": [
       "<Figure size 640x480 with 2 Axes>"
      ]
     },
     "metadata": {},
     "output_type": "display_data"
    }
   ],
   "source": [
    "DT = DecisionTreeClassifier()\n",
    "DT.fit(xv_train, y_train)\n",
    "pred_dt = DT.predict(xv_test)\n",
    "print(\"Decision Tree Classification Results:\")\n",
    "print(classification_report(y_test, pred_dt))\n",
    "conf_matrix_dt = confusion_matrix(y_test, pred_dt)\n",
    "sns.heatmap(conf_matrix_dt, annot=True, fmt=\"d\", cmap=\"Blues\")\n",
    "plt.title(\"Confusion Matrix - Decision Tree\")\n",
    "plt.show()"
   ]
  },
  {
   "cell_type": "markdown",
   "id": "bf93d838-1d32-4ac1-a19c-f37068e1d829",
   "metadata": {},
   "source": [
    "### 3. Gradient Boosting Classifier"
   ]
  },
  {
   "cell_type": "code",
   "execution_count": 45,
   "id": "f5028fd0-23e8-4281-a06c-3997e1d6995c",
   "metadata": {
    "tags": []
   },
   "outputs": [
    {
     "name": "stdout",
     "output_type": "stream",
     "text": [
      "Gradient Boosting Classifier Results:\n",
      "              precision    recall  f1-score   support\n",
      "\n",
      "           0       1.00      0.99      0.99      5894\n",
      "           1       0.99      1.00      0.99      5326\n",
      "\n",
      "    accuracy                           0.99     11220\n",
      "   macro avg       0.99      0.99      0.99     11220\n",
      "weighted avg       0.99      0.99      0.99     11220\n",
      "\n"
     ]
    },
    {
     "data": {
      "image/png": "[encoded data removed]",
      "text/plain": [
       "<Figure size 640x480 with 2 Axes>"
      ]
     },
     "metadata": {},
     "output_type": "display_data"
    }
   ],
   "source": [
    "GBC = GradientBoostingClassifier(random_state=0)\n",
    "GBC.fit(xv_train, y_train)\n",
    "pred_gbc = GBC.predict(xv_test)\n",
    "print(\"Gradient Boosting Classifier Results:\")\n",
    "print(classification_report(y_test, pred_gbc))\n",
    "conf_matrix_gbc = confusion_matrix(y_test, pred_gbc)\n",
    "sns.heatmap(conf_matrix_gbc, annot=True, fmt=\"d\", cmap=\"Blues\")\n",
    "plt.title(\"Confusion Matrix - Gradient Boosting Classifier\")\n",
    "plt.show()"
   ]
  },
  {
   "cell_type": "markdown",
   "id": "87bc8eab-99ee-4845-88ab-5beff6575e3d",
   "metadata": {},
   "source": [
    "### 4. Random Forest Classifier"
   ]
  },
  {
   "cell_type": "code",
   "execution_count": 44,
   "id": "0afdf72b-9c3b-4863-9c0c-62bcbec99d50",
   "metadata": {
    "tags": []
   },
   "outputs": [
    {
     "name": "stdout",
     "output_type": "stream",
     "text": [
      "Random Forest Classifier Results:\n",
      "              precision    recall  f1-score   support\n",
      "\n",
      "           0       0.99      0.99      0.99      5894\n",
      "           1       0.99      0.99      0.99      5326\n",
      "\n",
      "    accuracy                           0.99     11220\n",
      "   macro avg       0.99      0.99      0.99     11220\n",
      "weighted avg       0.99      0.99      0.99     11220\n",
      "\n"
     ]
    },
    {
     "data": {
      "image/png": "[encoded data removed]",
      "text/plain": [
       "<Figure size 640x480 with 2 Axes>"
      ]
     },
     "metadata": {},
     "output_type": "display_data"
    }
   ],
   "source": [
    "RFC = RandomForestClassifier(random_state=0)\n",
    "RFC.fit(xv_train, y_train)\n",
    "pred_rfc = RFC.predict(xv_test)\n",
    "print(\"Random Forest Classifier Results:\")\n",
    "print(classification_report(y_test, pred_rfc))\n",
    "conf_matrix_rfc = confusion_matrix(y_test, pred_rfc)\n",
    "sns.heatmap(conf_matrix_rfc, annot=True, fmt=\"d\", cmap=\"Blues\")\n",
    "plt.title(\"Confusion Matrix - Random Forest Classifier\")\n",
    "plt.show()"
   ]
  },
  {
   "cell_type": "markdown",
   "id": "65ddfde3-20e8-482c-bc54-4c3c1825da57",
   "metadata": {},
   "source": [
    "### Function to output label"
   ]
  },
  {
   "cell_type": "code",
   "execution_count": 41,
   "id": "937b4b5c-d357-4eda-8d71-aff617bb7bf6",
   "metadata": {
    "tags": []
   },
   "outputs": [],
   "source": [
    "def output_label(n):\n",
    "    return \"Fake News\" if n == 0 else \"Not A Fake News\""
   ]
  },
  {
   "cell_type": "markdown",
   "id": "fc78fa99-a46c-48b6-ad45-e6fd5f244dfb",
   "metadata": {},
   "source": [
    "### Manual testing function"
   ]
  },
  {
   "cell_type": "code",
   "execution_count": 42,
   "id": "b895f7f6-cd0b-4d7c-811d-13127b08cd77",
   "metadata": {
    "tags": []
   },
   "outputs": [],
   "source": [
    "def manual_testing(news):\n",
    "    testing_news = {\"text\": [news]}\n",
    "    new_def_test = pd.DataFrame(testing_news)\n",
    "    new_def_test[\"text\"] = new_def_test[\"text\"].apply(process_text)\n",
    "    new_x_test = new_def_test[\"text\"]\n",
    "    new_xv_test = vectorization.transform(new_x_test)\n",
    "    pred_LR = LR.predict(new_xv_test)\n",
    "    pred_DT = DT.predict(new_xv_test)\n",
    "    pred_GBC = GBC.predict(new_xv_test)\n",
    "    pred_RFC = RFC.predict(new_xv_test)\n",
    "\n",
    "    print(\"\\nLR Prediction: {} \\nDT Prediction: {} \\nGBC Prediction: {} \\nRFC Prediction: {}\".format(\n",
    "        output_label(pred_LR[0]),\n",
    "        output_label(pred_DT[0]),\n",
    "        output_label(pred_GBC[0]),\n",
    "        output_label(pred_RFC[0])\n",
    "    ))"
   ]
  },
  {
   "cell_type": "markdown",
   "id": "2181646d-b415-4eb4-957d-79bbd5df294a",
   "metadata": {},
   "source": [
    "### Taking input for manual testing"
   ]
  },
  {
   "cell_type": "code",
   "execution_count": 43,
   "id": "8529169d-5eb6-4997-af4b-5f5c30867fbc",
   "metadata": {
    "tags": []
   },
   "outputs": [
    {
     "name": "stdin",
     "output_type": "stream",
     "text": [
      "Enter news for manual testing:  tcjvb'\n"
     ]
    },
    {
     "name": "stdout",
     "output_type": "stream",
     "text": [
      "\n",
      "LR Prediction: Fake News \n",
      "DT Prediction: Fake News \n",
      "GBC Prediction: Fake News \n",
      "RFC Prediction: Fake News\n"
     ]
    }
   ],
   "source": [
    "news = str(input(\"Enter news for manual testing: \"))\n",
    "manual_testing(news)"
   ]
  }
 ],
 "metadata": {
  "kernelspec": {
   "display_name": "Python 3 (ipykernel)",
   "language": "python",
   "name": "python3"
  },
  "language_info": {
   "codemirror_mode": {
    "name": "ipython",
    "version": 3
   },
   "file_extension": ".py",
   "mimetype": "text/x-python",
   "name": "python",
   "nbconvert_exporter": "python",
   "pygments_lexer": "ipython3",
   "version": "3.11.5"
  }
 },
 "nbformat": 4,
 "nbformat_minor": 5
}
